{
  "nbformat": 4,
  "nbformat_minor": 0,
  "metadata": {
    "colab": {
      "name": "AI Lab Quiz 2.ipynb",
      "provenance": [],
      "collapsed_sections": []
    },
    "kernelspec": {
      "name": "python3",
      "display_name": "Python 3"
    },
    "language_info": {
      "name": "python"
    }
  },
  "cells": [
    {
      "cell_type": "code",
      "execution_count": 96,
      "metadata": {
        "id": "7KmQCWnmrMhe"
      },
      "outputs": [],
      "source": [
        "import pandas as pd\n",
        "import numpy as np\n",
        "from sklearn.model_selection import train_test_split\n",
        "import matplotlib.pyplot as plt\n"
      ]
    },
    {
      "cell_type": "code",
      "source": [
        "df = pd.read_csv('/content/Wholesale customers data.csv')"
      ],
      "metadata": {
        "id": "-A92hWy4rnqg"
      },
      "execution_count": 58,
      "outputs": []
    },
    {
      "cell_type": "code",
      "source": [
        "# dataset exploring\n",
        "df.head()"
      ],
      "metadata": {
        "colab": {
          "base_uri": "https://localhost:8080/",
          "height": 206
        },
        "id": "lKKQc7UEr8F3",
        "outputId": "4e554010-f38f-4702-ae6f-8aa5b30be7f7"
      },
      "execution_count": 59,
      "outputs": [
        {
          "output_type": "execute_result",
          "data": {
            "text/plain": [
              "   Channel  Region  Fresh  Milk  Grocery  Frozen  Detergents_Paper  Delicassen\n",
              "0        2       3  12669  9656     7561     214              2674        1338\n",
              "1        2       3   7057  9810     9568    1762              3293        1776\n",
              "2        2       3   6353  8808     7684    2405              3516        7844\n",
              "3        1       3  13265  1196     4221    6404               507        1788\n",
              "4        2       3  22615  5410     7198    3915              1777        5185"
            ],
            "text/html": [
              "\n",
              "  <div id=\"df-786cdcd0-938d-4b61-9c56-2f2cbea29e60\">\n",
              "    <div class=\"colab-df-container\">\n",
              "      <div>\n",
              "<style scoped>\n",
              "    .dataframe tbody tr th:only-of-type {\n",
              "        vertical-align: middle;\n",
              "    }\n",
              "\n",
              "    .dataframe tbody tr th {\n",
              "        vertical-align: top;\n",
              "    }\n",
              "\n",
              "    .dataframe thead th {\n",
              "        text-align: right;\n",
              "    }\n",
              "</style>\n",
              "<table border=\"1\" class=\"dataframe\">\n",
              "  <thead>\n",
              "    <tr style=\"text-align: right;\">\n",
              "      <th></th>\n",
              "      <th>Channel</th>\n",
              "      <th>Region</th>\n",
              "      <th>Fresh</th>\n",
              "      <th>Milk</th>\n",
              "      <th>Grocery</th>\n",
              "      <th>Frozen</th>\n",
              "      <th>Detergents_Paper</th>\n",
              "      <th>Delicassen</th>\n",
              "    </tr>\n",
              "  </thead>\n",
              "  <tbody>\n",
              "    <tr>\n",
              "      <th>0</th>\n",
              "      <td>2</td>\n",
              "      <td>3</td>\n",
              "      <td>12669</td>\n",
              "      <td>9656</td>\n",
              "      <td>7561</td>\n",
              "      <td>214</td>\n",
              "      <td>2674</td>\n",
              "      <td>1338</td>\n",
              "    </tr>\n",
              "    <tr>\n",
              "      <th>1</th>\n",
              "      <td>2</td>\n",
              "      <td>3</td>\n",
              "      <td>7057</td>\n",
              "      <td>9810</td>\n",
              "      <td>9568</td>\n",
              "      <td>1762</td>\n",
              "      <td>3293</td>\n",
              "      <td>1776</td>\n",
              "    </tr>\n",
              "    <tr>\n",
              "      <th>2</th>\n",
              "      <td>2</td>\n",
              "      <td>3</td>\n",
              "      <td>6353</td>\n",
              "      <td>8808</td>\n",
              "      <td>7684</td>\n",
              "      <td>2405</td>\n",
              "      <td>3516</td>\n",
              "      <td>7844</td>\n",
              "    </tr>\n",
              "    <tr>\n",
              "      <th>3</th>\n",
              "      <td>1</td>\n",
              "      <td>3</td>\n",
              "      <td>13265</td>\n",
              "      <td>1196</td>\n",
              "      <td>4221</td>\n",
              "      <td>6404</td>\n",
              "      <td>507</td>\n",
              "      <td>1788</td>\n",
              "    </tr>\n",
              "    <tr>\n",
              "      <th>4</th>\n",
              "      <td>2</td>\n",
              "      <td>3</td>\n",
              "      <td>22615</td>\n",
              "      <td>5410</td>\n",
              "      <td>7198</td>\n",
              "      <td>3915</td>\n",
              "      <td>1777</td>\n",
              "      <td>5185</td>\n",
              "    </tr>\n",
              "  </tbody>\n",
              "</table>\n",
              "</div>\n",
              "      <button class=\"colab-df-convert\" onclick=\"convertToInteractive('df-786cdcd0-938d-4b61-9c56-2f2cbea29e60')\"\n",
              "              title=\"Convert this dataframe to an interactive table.\"\n",
              "              style=\"display:none;\">\n",
              "        \n",
              "  <svg xmlns=\"http://www.w3.org/2000/svg\" height=\"24px\"viewBox=\"0 0 24 24\"\n",
              "       width=\"24px\">\n",
              "    <path d=\"M0 0h24v24H0V0z\" fill=\"none\"/>\n",
              "    <path d=\"M18.56 5.44l.94 2.06.94-2.06 2.06-.94-2.06-.94-.94-2.06-.94 2.06-2.06.94zm-11 1L8.5 8.5l.94-2.06 2.06-.94-2.06-.94L8.5 2.5l-.94 2.06-2.06.94zm10 10l.94 2.06.94-2.06 2.06-.94-2.06-.94-.94-2.06-.94 2.06-2.06.94z\"/><path d=\"M17.41 7.96l-1.37-1.37c-.4-.4-.92-.59-1.43-.59-.52 0-1.04.2-1.43.59L10.3 9.45l-7.72 7.72c-.78.78-.78 2.05 0 2.83L4 21.41c.39.39.9.59 1.41.59.51 0 1.02-.2 1.41-.59l7.78-7.78 2.81-2.81c.8-.78.8-2.07 0-2.86zM5.41 20L4 18.59l7.72-7.72 1.47 1.35L5.41 20z\"/>\n",
              "  </svg>\n",
              "      </button>\n",
              "      \n",
              "  <style>\n",
              "    .colab-df-container {\n",
              "      display:flex;\n",
              "      flex-wrap:wrap;\n",
              "      gap: 12px;\n",
              "    }\n",
              "\n",
              "    .colab-df-convert {\n",
              "      background-color: #E8F0FE;\n",
              "      border: none;\n",
              "      border-radius: 50%;\n",
              "      cursor: pointer;\n",
              "      display: none;\n",
              "      fill: #1967D2;\n",
              "      height: 32px;\n",
              "      padding: 0 0 0 0;\n",
              "      width: 32px;\n",
              "    }\n",
              "\n",
              "    .colab-df-convert:hover {\n",
              "      background-color: #E2EBFA;\n",
              "      box-shadow: 0px 1px 2px rgba(60, 64, 67, 0.3), 0px 1px 3px 1px rgba(60, 64, 67, 0.15);\n",
              "      fill: #174EA6;\n",
              "    }\n",
              "\n",
              "    [theme=dark] .colab-df-convert {\n",
              "      background-color: #3B4455;\n",
              "      fill: #D2E3FC;\n",
              "    }\n",
              "\n",
              "    [theme=dark] .colab-df-convert:hover {\n",
              "      background-color: #434B5C;\n",
              "      box-shadow: 0px 1px 3px 1px rgba(0, 0, 0, 0.15);\n",
              "      filter: drop-shadow(0px 1px 2px rgba(0, 0, 0, 0.3));\n",
              "      fill: #FFFFFF;\n",
              "    }\n",
              "  </style>\n",
              "\n",
              "      <script>\n",
              "        const buttonEl =\n",
              "          document.querySelector('#df-786cdcd0-938d-4b61-9c56-2f2cbea29e60 button.colab-df-convert');\n",
              "        buttonEl.style.display =\n",
              "          google.colab.kernel.accessAllowed ? 'block' : 'none';\n",
              "\n",
              "        async function convertToInteractive(key) {\n",
              "          const element = document.querySelector('#df-786cdcd0-938d-4b61-9c56-2f2cbea29e60');\n",
              "          const dataTable =\n",
              "            await google.colab.kernel.invokeFunction('convertToInteractive',\n",
              "                                                     [key], {});\n",
              "          if (!dataTable) return;\n",
              "\n",
              "          const docLinkHtml = 'Like what you see? Visit the ' +\n",
              "            '<a target=\"_blank\" href=https://colab.research.google.com/notebooks/data_table.ipynb>data table notebook</a>'\n",
              "            + ' to learn more about interactive tables.';\n",
              "          element.innerHTML = '';\n",
              "          dataTable['output_type'] = 'display_data';\n",
              "          await google.colab.output.renderOutput(dataTable, element);\n",
              "          const docLink = document.createElement('div');\n",
              "          docLink.innerHTML = docLinkHtml;\n",
              "          element.appendChild(docLink);\n",
              "        }\n",
              "      </script>\n",
              "    </div>\n",
              "  </div>\n",
              "  "
            ]
          },
          "metadata": {},
          "execution_count": 59
        }
      ]
    },
    {
      "cell_type": "code",
      "source": [
        "#dataset exploring\n",
        "df.info()"
      ],
      "metadata": {
        "colab": {
          "base_uri": "https://localhost:8080/"
        },
        "id": "mSLQ3tQmy_V0",
        "outputId": "7d8cb558-b8e5-4c31-a130-2f934dd79d0d"
      },
      "execution_count": 60,
      "outputs": [
        {
          "output_type": "stream",
          "name": "stdout",
          "text": [
            "<class 'pandas.core.frame.DataFrame'>\n",
            "RangeIndex: 440 entries, 0 to 439\n",
            "Data columns (total 8 columns):\n",
            " #   Column            Non-Null Count  Dtype\n",
            "---  ------            --------------  -----\n",
            " 0   Channel           440 non-null    int64\n",
            " 1   Region            440 non-null    int64\n",
            " 2   Fresh             440 non-null    int64\n",
            " 3   Milk              440 non-null    int64\n",
            " 4   Grocery           440 non-null    int64\n",
            " 5   Frozen            440 non-null    int64\n",
            " 6   Detergents_Paper  440 non-null    int64\n",
            " 7   Delicassen        440 non-null    int64\n",
            "dtypes: int64(8)\n",
            "memory usage: 27.6 KB\n"
          ]
        }
      ]
    },
    {
      "cell_type": "code",
      "source": [
        "# Data set exploring\n",
        "df.shape"
      ],
      "metadata": {
        "colab": {
          "base_uri": "https://localhost:8080/"
        },
        "id": "vM8HKma_zHBx",
        "outputId": "51059677-9daf-42e9-d031-3fb7711b2091"
      },
      "execution_count": 61,
      "outputs": [
        {
          "output_type": "execute_result",
          "data": {
            "text/plain": [
              "(440, 8)"
            ]
          },
          "metadata": {},
          "execution_count": 61
        }
      ]
    },
    {
      "cell_type": "code",
      "source": [
        "#check for missing values if there is any\n",
        "df.isnull().sum()\n",
        "\n",
        "# As the output shoes that there is not any missing values and thus there is no need to drop any column form \n",
        "# the data set"
      ],
      "metadata": {
        "colab": {
          "base_uri": "https://localhost:8080/"
        },
        "id": "by-KiYf7zNWJ",
        "outputId": "e3e54cfc-a20c-4abe-ddf9-88dead2504b9"
      },
      "execution_count": 62,
      "outputs": [
        {
          "output_type": "execute_result",
          "data": {
            "text/plain": [
              "Channel             0\n",
              "Region              0\n",
              "Fresh               0\n",
              "Milk                0\n",
              "Grocery             0\n",
              "Frozen              0\n",
              "Detergents_Paper    0\n",
              "Delicassen          0\n",
              "dtype: int64"
            ]
          },
          "metadata": {},
          "execution_count": 62
        }
      ]
    },
    {
      "cell_type": "code",
      "source": [
        "# Standardize the data using sklearn StandardScaler\n",
        "\n",
        "from sklearn.preprocessing import StandardScaler\n",
        "\n",
        "\n",
        "model = StandardScaler()\n",
        "model.fit_transform(df)"
      ],
      "metadata": {
        "colab": {
          "base_uri": "https://localhost:8080/"
        },
        "id": "G_z8eoKAsKfk",
        "outputId": "28997327-56bf-45ad-bafe-ab7dcb6cb586"
      },
      "execution_count": 63,
      "outputs": [
        {
          "output_type": "execute_result",
          "data": {
            "text/plain": [
              "array([[ 1.44865163,  0.59066829,  0.05293319, ..., -0.58936716,\n",
              "        -0.04356873, -0.06633906],\n",
              "       [ 1.44865163,  0.59066829, -0.39130197, ..., -0.27013618,\n",
              "         0.08640684,  0.08915105],\n",
              "       [ 1.44865163,  0.59066829, -0.44702926, ..., -0.13753572,\n",
              "         0.13323164,  2.24329255],\n",
              "       ...,\n",
              "       [ 1.44865163,  0.59066829,  0.20032554, ..., -0.54337975,\n",
              "         2.51121768,  0.12145607],\n",
              "       [-0.69029709,  0.59066829, -0.13538389, ..., -0.41944059,\n",
              "        -0.56977032,  0.21304614],\n",
              "       [-0.69029709,  0.59066829, -0.72930698, ..., -0.62009417,\n",
              "        -0.50488752, -0.52286938]])"
            ]
          },
          "metadata": {},
          "execution_count": 63
        }
      ]
    },
    {
      "cell_type": "code",
      "source": [
        "print(model.fit(df))"
      ],
      "metadata": {
        "colab": {
          "base_uri": "https://localhost:8080/"
        },
        "id": "HyO-yDHKs7On",
        "outputId": "b58c0944-74a4-41b3-f75b-2f3654cc77cf"
      },
      "execution_count": 64,
      "outputs": [
        {
          "output_type": "stream",
          "name": "stdout",
          "text": [
            "StandardScaler()\n"
          ]
        }
      ]
    },
    {
      "cell_type": "code",
      "source": [
        "# fitnning of the data on the kmean model\n",
        "from sklearn.cluster import KMeans\n",
        "\n",
        "kmeans = KMeans(n_clusters=4, random_state=0) \n",
        "\n",
        "kmeans.fit(df)"
      ],
      "metadata": {
        "colab": {
          "base_uri": "https://localhost:8080/"
        },
        "id": "dTqdanesvDhL",
        "outputId": "b35a21ec-01c4-482a-fbd4-6a1f656c5add"
      },
      "execution_count": 83,
      "outputs": [
        {
          "output_type": "execute_result",
          "data": {
            "text/plain": [
              "KMeans(n_clusters=4, random_state=0)"
            ]
          },
          "metadata": {},
          "execution_count": 83
        }
      ]
    },
    {
      "cell_type": "code",
      "source": [
        "#display of cluster centers\n",
        "\n",
        "cc=kmeans.cluster_centers_\n",
        "print(cc)"
      ],
      "metadata": {
        "colab": {
          "base_uri": "https://localhost:8080/"
        },
        "id": "cZhaGvNJvld-",
        "outputId": "9df76ac8-fd29-4e7f-ed9a-4562935c675f"
      },
      "execution_count": 84,
      "outputs": [
        {
          "output_type": "stream",
          "name": "stdout",
          "text": [
            "[[1.13793103e+00 2.58620690e+00 3.61444828e+04 5.47146552e+03\n",
            "  6.12879310e+03 6.29865517e+03 1.06400000e+03 2.31672414e+03]\n",
            " [1.86315789e+00 2.53684211e+00 4.80884211e+03 1.05250105e+04\n",
            "  1.69097895e+04 1.46258947e+03 7.30240000e+03 1.65088421e+03]\n",
            " [1.90909091e+00 2.54545455e+00 1.98882727e+04 3.61423636e+04\n",
            "  4.55174545e+04 6.32890909e+03 2.14170909e+04 8.41400000e+03]\n",
            " [1.15217391e+00 2.53623188e+00 9.08746377e+03 3.02742754e+03\n",
            "  3.75351449e+03 2.81798551e+03 1.00300362e+03 1.04052536e+03]]\n"
          ]
        }
      ]
    },
    {
      "cell_type": "code",
      "source": [
        "#display of k menas inertia\n",
        "intr=kmeans.inertia_\n",
        "print(intr)"
      ],
      "metadata": {
        "colab": {
          "base_uri": "https://localhost:8080/"
        },
        "id": "51scV5bmzjAG",
        "outputId": "dfe6b8c3-8a61-4010-c680-832c24eb5665"
      },
      "execution_count": 85,
      "outputs": [
        {
          "output_type": "stream",
          "name": "stdout",
          "text": [
            "64855545845.90139\n"
          ]
        }
      ]
    },
    {
      "cell_type": "code",
      "source": [
        "labels = kmeans.labels_\n",
        "\n",
        "print(labels)"
      ],
      "metadata": {
        "colab": {
          "base_uri": "https://localhost:8080/"
        },
        "id": "ZgfeGB3Byc6p",
        "outputId": "c3c144bf-8806-4ad3-cb9b-f69dd8184dc5"
      },
      "execution_count": 86,
      "outputs": [
        {
          "output_type": "stream",
          "name": "stdout",
          "text": [
            "[3 1 3 3 0 3 3 3 3 1 1 3 0 1 0 3 1 3 3 3 3 3 0 2 0 3 3 3 1 0 3 3 3 0 3 1 0\n",
            " 1 1 0 0 3 1 1 3 1 1 2 3 1 3 3 0 1 0 3 1 1 3 3 3 2 3 1 3 2 3 3 3 3 3 1 3 3\n",
            " 3 3 3 1 3 3 3 1 1 3 3 2 2 0 3 0 3 3 2 3 1 3 3 3 3 3 1 1 3 0 3 3 1 1 3 1 3\n",
            " 1 3 3 3 3 3 3 3 3 3 3 3 3 0 0 3 3 3 0 3 3 3 3 3 3 3 3 3 3 3 0 0 3 3 1 3 3\n",
            " 3 0 3 3 3 3 3 1 1 3 1 1 1 3 3 1 3 1 1 3 3 3 1 1 3 1 3 1 0 3 3 3 3 0 1 2 3\n",
            " 3 3 1 1 1 3 3 3 1 3 3 0 1 3 3 1 1 0 3 3 1 3 3 3 1 3 2 3 3 1 1 1 3 1 3 3 1\n",
            " 3 3 3 3 3 3 3 3 3 3 0 3 3 3 3 3 3 0 0 0 3 3 1 1 3 3 3 3 3 2 3 0 3 0 3 3 0\n",
            " 0 3 3 3 3 1 1 1 3 1 3 3 3 3 0 3 3 0 3 3 3 3 3 0 0 0 0 3 3 3 0 3 3 3 1 3 3\n",
            " 3 3 3 3 3 1 1 1 1 1 1 3 3 1 3 0 1 3 3 1 3 3 3 1 3 3 3 3 0 0 3 3 3 3 3 1 3\n",
            " 2 3 0 3 3 3 3 1 1 3 1 3 3 1 0 3 1 3 1 3 1 3 3 3 1 3 3 3 3 3 3 3 3 3 3 3 3\n",
            " 0 3 3 3 3 3 1 0 3 3 0 3 0 3 1 3 3 3 3 3 3 3 3 0 3 3 1 3 3 3 3 0 0 0 3 3 0\n",
            " 1 3 3 3 3 1 3 3 3 1 1 1 3 1 3 0 3 3 3 1 0 3 3 1 3 3 3 3 0 0 1 3 3]\n"
          ]
        }
      ]
    },
    {
      "cell_type": "code",
      "source": [
        "##Finding  best k value by plotting the inertia vs number of clusters graph.\n",
        "inertia = [] \n",
        "for i in range(1, 20): \n",
        "    kmeans = KMeans(n_clusters = i, init = 'k-means++', random_state = 42)\n",
        "    kmeans.fit(df) \n",
        "    inertia.append(kmeans.inertia_)"
      ],
      "metadata": {
        "id": "vkjNSyiUwAMR"
      },
      "execution_count": 89,
      "outputs": []
    },
    {
      "cell_type": "code",
      "source": [
        "#Graph plotting of  number of cluster vs inertia\n",
        "plt.plot(range(1, 20), inertia)\n",
        "plt.xlabel('Number of clusters')\n",
        "plt.ylabel('Interia') \n",
        "plt.show()\n",
        "\n",
        "#to see which value of number of cluster will be the best value depends upon the \n",
        "#start of the steep curve the point  at which the steep curve start that will be the best value of \n",
        "#K  here in this case it will be 5.0 "
      ],
      "metadata": {
        "colab": {
          "base_uri": "https://localhost:8080/",
          "height": 290
        },
        "id": "csBzXEzExwbQ",
        "outputId": "baa07711-6868-477d-e259-897cbecc0606"
      },
      "execution_count": 90,
      "outputs": [
        {
          "output_type": "display_data",
          "data": {
            "text/plain": [
              "<Figure size 432x288 with 1 Axes>"
            ],
            "image/png": "[encoded data removed]"
          },
          "metadata": {
            "needs_background": "light"
          }
        }
      ]
    },
    {
      "cell_type": "code",
      "source": [
        "# using the best K value to perform prediction\n",
        "\n",
        "predictions=kmeans.fit_predict(df)\n",
        "print(predictions)"
      ],
      "metadata": {
        "colab": {
          "base_uri": "https://localhost:8080/"
        },
        "id": "_m0Pc-Hbyf3G",
        "outputId": "7f06e441-dd20-4af7-a824-9b82c56eff00"
      },
      "execution_count": 104,
      "outputs": [
        {
          "output_type": "stream",
          "name": "stdout",
          "text": [
            "[ 6  5  5  8  2  8  8  5  0 14  5  8  3  6  3  8  5  0  6  5  2  0  3 16\n",
            "  3  6  8  8 14 10  6  0  2  3  0  5  3  6 14  1  2  2  6 14  6 14 14  4\n",
            "  6  7  0  0 10  5  2  0  7  5  8  5  8  4  5  6  0 18  0  6  0  8  2  6\n",
            " 13  2  5  2  0  7  8  0  0  5  6  2  8 15  9 10 13  2  8 13  7 13  5  0\n",
            "  5  0  0  8  6 14  5  1  8  8  5  6  5 14  8  6  2  8  2  8  8  0  2  8\n",
            "  2  0  8  6 10  1  2  6  0 10 13  0  8  8  0  0  5  5  8  0  2  3 10 13\n",
            "  2  7  8  8  0 10  8  0  2  0  0 14  5  2  5  5  5  8  8 14  5  6  5  0\n",
            "  0  0  5 14  5 14  0  5 10  8  8  0  6 12  5 11  0  8  0  5  5  5  2  8\n",
            "  0 14  0  2  3  5  8  8 14 14  3  0  0 14  0  5  0 14  2  7  0  5  5  5\n",
            "  7  2  5  0  8  5 13  0  0  8  2  0  0 13 13  5  2  0  8  0  8  2  0 10\n",
            "  2  2  2  8  5  5  8  8  8 13  0  7 13  3  6 10  8  8  1  1  8 13  2  0\n",
            "  5 14 14  2  6  8  0  0  5 10  0  0  3 13  8  6  0  8 10  2  1 10  0  2\n",
            "  8 10  0  0  0  5  2  8  2  8  5  0  6 14  5  5 14  5 14  2  0 14 13  3\n",
            " 14  8  8  5  0  0  8 14  0  8  8  6  2 17  0  0  2  0  8 14  2 18  2  3\n",
            "  8 13 13 13  5  5  5 14  0  5  5  3  0 14  0 14  0 14  8  0  2 14  5  0\n",
            "  2  0  0  0  0  5  8  0  2  0 10  2  0  6  0  0  5 10  0  5  2  2  3  0\n",
            "  6  8  0  2  8  8  0  0  0  2  8  8  5  8  8  8  0  2  2  3  2  0  2 14\n",
            "  8  8  0  0  5 13  0  5  5  5 14  8  5  6  2  2  6 13  6  3  0  8  5 13\n",
            "  2  0  6  3 10  7  8  0]\n"
          ]
        }
      ]
    },
    {
      "cell_type": "code",
      "source": [
        "\n",
        "frame = pd.DataFrame(df)\n",
        "frame['cluster'] = predictions\n",
        "frame['cluster'].value_counts()"
      ],
      "metadata": {
        "colab": {
          "base_uri": "https://localhost:8080/"
        },
        "id": "YgmM1tXd2LTW",
        "outputId": "350b2712-51e7-4169-d5c0-b191ae403a6a"
      },
      "execution_count": 105,
      "outputs": [
        {
          "output_type": "execute_result",
          "data": {
            "text/plain": [
              "0     98\n",
              "8     75\n",
              "5     67\n",
              "2     56\n",
              "14    33\n",
              "6     31\n",
              "13    20\n",
              "3     18\n",
              "10    17\n",
              "7      9\n",
              "1      6\n",
              "4      2\n",
              "18     2\n",
              "16     1\n",
              "15     1\n",
              "9      1\n",
              "12     1\n",
              "11     1\n",
              "17     1\n",
              "Name: cluster, dtype: int64"
            ]
          },
          "metadata": {},
          "execution_count": 105
        }
      ]
    },
    {
      "cell_type": "code",
      "source": [
        "\n",
        "\n",
        "# Plot the clusters \n",
        "plt.scatter(kmeans.cluster_centers_[:, 0], \n",
        "            kmeans.cluster_centers_[:, 1], \n",
        "            s=5,                             # Set centroid size\n",
        "            c='red')                           # Set centroid color\n",
        "plt.show()"
      ],
      "metadata": {
        "colab": {
          "base_uri": "https://localhost:8080/",
          "height": 265
        },
        "id": "NVPrZeml8ktU",
        "outputId": "fb1d3055-1147-499e-9888-f4d089192aa6"
      },
      "execution_count": 127,
      "outputs": [
        {
          "output_type": "display_data",
          "data": {
            "text/plain": [
              "<Figure size 432x288 with 1 Axes>"
            ],
            "image/png": "[encoded data removed]"
          },
          "metadata": {
            "needs_background": "light"
          }
        }
      ]
    }
  ]
}